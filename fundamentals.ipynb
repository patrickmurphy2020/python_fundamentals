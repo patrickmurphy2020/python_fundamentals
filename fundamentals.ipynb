{
 "cells": [
  {
   "cell_type": "code",
   "execution_count": 17,
   "id": "f7379043",
   "metadata": {},
   "outputs": [],
   "source": [
    "i = 1\n",
    "f = 1.0\n",
    "c='c'\n",
    "s=\"Hello, world!\"\n",
    "t=\"I cant believe it!\"\n",
    "u='Patrick says \"Hello\"'\n",
    "v=\"Patrick says \\\"Hello\\\"\""
   ]
  },
  {
   "cell_type": "code",
   "execution_count": 2,
   "id": "d75db12d",
   "metadata": {},
   "outputs": [
    {
     "data": {
      "text/plain": [
       "1"
      ]
     },
     "execution_count": 2,
     "metadata": {},
     "output_type": "execute_result"
    }
   ],
   "source": [
    "i"
   ]
  },
  {
   "cell_type": "code",
   "execution_count": 3,
   "id": "fc62a8d2",
   "metadata": {},
   "outputs": [
    {
     "data": {
      "text/plain": [
       "1.0"
      ]
     },
     "execution_count": 3,
     "metadata": {},
     "output_type": "execute_result"
    }
   ],
   "source": [
    "f"
   ]
  },
  {
   "cell_type": "code",
   "execution_count": 4,
   "id": "3070afef",
   "metadata": {},
   "outputs": [
    {
     "data": {
      "text/plain": [
       "int"
      ]
     },
     "execution_count": 4,
     "metadata": {},
     "output_type": "execute_result"
    }
   ],
   "source": [
    "type(i)"
   ]
  },
  {
   "cell_type": "code",
   "execution_count": 5,
   "id": "34b73482",
   "metadata": {},
   "outputs": [
    {
     "data": {
      "text/plain": [
       "float"
      ]
     },
     "execution_count": 5,
     "metadata": {},
     "output_type": "execute_result"
    }
   ],
   "source": [
    "type(f)"
   ]
  },
  {
   "cell_type": "code",
   "execution_count": 6,
   "id": "70f666d6",
   "metadata": {},
   "outputs": [
    {
     "data": {
      "text/plain": [
       "2"
      ]
     },
     "execution_count": 6,
     "metadata": {},
     "output_type": "execute_result"
    }
   ],
   "source": [
    "i + i"
   ]
  },
  {
   "cell_type": "code",
   "execution_count": 7,
   "id": "c7cc998b",
   "metadata": {},
   "outputs": [
    {
     "data": {
      "text/plain": [
       "2.0"
      ]
     },
     "execution_count": 7,
     "metadata": {},
     "output_type": "execute_result"
    }
   ],
   "source": [
    "f + f"
   ]
  },
  {
   "cell_type": "code",
   "execution_count": 8,
   "id": "69092fe4",
   "metadata": {},
   "outputs": [
    {
     "data": {
      "text/plain": [
       "str"
      ]
     },
     "execution_count": 8,
     "metadata": {},
     "output_type": "execute_result"
    }
   ],
   "source": [
    "type(s)"
   ]
  },
  {
   "cell_type": "code",
   "execution_count": 10,
   "id": "71e8d757",
   "metadata": {},
   "outputs": [
    {
     "data": {
      "text/plain": [
       "'I cant believe it!'"
      ]
     },
     "execution_count": 10,
     "metadata": {},
     "output_type": "execute_result"
    }
   ],
   "source": [
    "t"
   ]
  },
  {
   "cell_type": "code",
   "execution_count": 11,
   "id": "141102a8",
   "metadata": {},
   "outputs": [
    {
     "data": {
      "text/plain": [
       "'Patrick says \"Hello\"'"
      ]
     },
     "execution_count": 11,
     "metadata": {},
     "output_type": "execute_result"
    }
   ],
   "source": [
    "u"
   ]
  },
  {
   "cell_type": "code",
   "execution_count": 12,
   "id": "59370e4d",
   "metadata": {},
   "outputs": [
    {
     "data": {
      "text/plain": [
       "'Patrick saya \"Hello\"'"
      ]
     },
     "execution_count": 12,
     "metadata": {},
     "output_type": "execute_result"
    }
   ],
   "source": [
    "v"
   ]
  },
  {
   "cell_type": "code",
   "execution_count": 14,
   "id": "6997e9d3",
   "metadata": {},
   "outputs": [
    {
     "data": {
      "text/plain": [
       "True"
      ]
     },
     "execution_count": 14,
     "metadata": {},
     "output_type": "execute_result"
    }
   ],
   "source": [
    " u == v"
   ]
  },
  {
   "cell_type": "code",
   "execution_count": 15,
   "id": "5e56f94e",
   "metadata": {},
   "outputs": [
    {
     "data": {
      "text/plain": [
       "'Patrick saya \"Hello\"Patrick saya \"Hello\"'"
      ]
     },
     "execution_count": 15,
     "metadata": {},
     "output_type": "execute_result"
    }
   ],
   "source": [
    "u + v"
   ]
  },
  {
   "cell_type": "code",
   "execution_count": 16,
   "id": "6142ac46",
   "metadata": {},
   "outputs": [
    {
     "data": {
      "text/plain": [
       "'Patrick saya \"Hello\"Patrick saya \"Hello\"Patrick saya \"Hello\"'"
      ]
     },
     "execution_count": 16,
     "metadata": {},
     "output_type": "execute_result"
    }
   ],
   "source": [
    "u * 3"
   ]
  },
  {
   "cell_type": "code",
   "execution_count": 18,
   "id": "c382b51b",
   "metadata": {},
   "outputs": [
    {
     "data": {
      "text/plain": [
       "'Patrick says \"Hello\"Patrick says \"Hello\"'"
      ]
     },
     "execution_count": 18,
     "metadata": {},
     "output_type": "execute_result"
    }
   ],
   "source": [
    "u + v"
   ]
  },
  {
   "cell_type": "code",
   "execution_count": 19,
   "id": "16b7cb7e",
   "metadata": {},
   "outputs": [
    {
     "data": {
      "text/plain": [
       "True"
      ]
     },
     "execution_count": 19,
     "metadata": {},
     "output_type": "execute_result"
    }
   ],
   "source": [
    "u == v"
   ]
  },
  {
   "cell_type": "code",
   "execution_count": null,
   "id": "b26474ff",
   "metadata": {},
   "outputs": [],
   "source": []
  }
 ],
 "metadata": {
  "kernelspec": {
   "display_name": "Python 3 (ipykernel)",
   "language": "python",
   "name": "python3"
  },
  "language_info": {
   "codemirror_mode": {
    "name": "ipython",
    "version": 3
   },
   "file_extension": ".py",
   "mimetype": "text/x-python",
   "name": "python",
   "nbconvert_exporter": "python",
   "pygments_lexer": "ipython3",
   "version": "3.9.7"
  }
 },
 "nbformat": 4,
 "nbformat_minor": 5
}
